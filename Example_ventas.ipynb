{
 "cells": [
  {
   "cell_type": "code",
   "execution_count": null,
   "id": "8b7cf698-0a70-4db9-bd21-2a7cd5714595",
   "metadata": {},
   "outputs": [],
   "source": [
    "#Importar libreria para manipulación de datos \n",
    "import pandas as pd "
   ]
  },
  {
   "cell_type": "code",
   "execution_count": 13,
   "id": "245d430d-9834-4776-a093-2f92a9999cbf",
   "metadata": {},
   "outputs": [],
   "source": [
    "df = ([\n",
    "    (1, 144.5 ,5.9, 33,'M'),\n",
    "    (2, 167.2, 5.4, 45, 'M'),\n",
    "    (3, 124.1, 5.2, 23, 'F'),\n",
    "    (4, 144.5, 5.9, 33, 'M'),\n",
    "    (5, 133.2, 5.7, 54, 'F'),\n",
    "    (3, 124.1, 5.2, 23, 'F'),\n",
    "    (5, 129.2, 5.3, 42, 'M'),\n",
    "], ['id', 'weight', 'height', 'age', 'gender']) "
   ]
  },
  {
   "cell_type": "code",
   "execution_count": 15,
   "id": "91ac60eb-7f51-4e72-be3c-d96ed83c4515",
   "metadata": {},
   "outputs": [],
   "source": [
    "df1 = ([\n",
    "    (1, 143.5 ,5.3, 28),\n",
    "    (2, 154.2, 5.5, 45),\n",
    "    (3, 342.3, 5.1, 99),\n",
    "    (4, 144.5, 5.5, 33),\n",
    "    (5, 133.2, 5.4, 54),\n",
    "    (3, 124.1, 5.1, 21),\n",
    "    (5, 129.2, 5.3, 42),\n",
    "], ['id', 'weight', 'height', 'age']) "
   ]
  },
  {
   "cell_type": "code",
   "execution_count": null,
   "id": "81bab429-4c8f-4e28-a6b6-53f2ddcd520d",
   "metadata": {},
   "outputs": [],
   "source": []
  }
 ],
 "metadata": {
  "kernelspec": {
   "display_name": "Python 3 (ipykernel)",
   "language": "python",
   "name": "python3"
  },
  "language_info": {
   "codemirror_mode": {
    "name": "ipython",
    "version": 3
   },
   "file_extension": ".py",
   "mimetype": "text/x-python",
   "name": "python",
   "nbconvert_exporter": "python",
   "pygments_lexer": "ipython3",
   "version": "3.12.4"
  }
 },
 "nbformat": 4,
 "nbformat_minor": 5
}

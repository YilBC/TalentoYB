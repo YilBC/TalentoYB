{
 "cells": [
  {
   "cell_type": "code",
   "execution_count": 6,
   "id": "a9c13961-ec6e-4c47-8039-47d08f9c4035",
   "metadata": {},
   "outputs": [],
   "source": [
    "#importar libreria para manipulacion de datos\n",
    "import pandas as pd"
   ]
  },
  {
   "cell_type": "code",
   "execution_count": 8,
   "id": "7594ea50-400b-4071-a784-f807264d1764",
   "metadata": {},
   "outputs": [],
   "source": [
    "df_ventas = pd.read_csv(\"C:/Users/ybueno/Downloads/example_ventas (1).csv\", delimiter=\";\")"
   ]
  },
  {
   "cell_type": "code",
   "execution_count": 10,
   "id": "3e37c4a8-e18d-4f67-bd65-b18571c3c2f2",
   "metadata": {},
   "outputs": [
    {
     "data": {
      "text/html": [
       "<div>\n",
       "<style scoped>\n",
       "    .dataframe tbody tr th:only-of-type {\n",
       "        vertical-align: middle;\n",
       "    }\n",
       "\n",
       "    .dataframe tbody tr th {\n",
       "        vertical-align: top;\n",
       "    }\n",
       "\n",
       "    .dataframe thead th {\n",
       "        text-align: right;\n",
       "    }\n",
       "</style>\n",
       "<table border=\"1\" class=\"dataframe\">\n",
       "  <thead>\n",
       "    <tr style=\"text-align: right;\">\n",
       "      <th></th>\n",
       "      <th>Fecha</th>\n",
       "      <th>Region</th>\n",
       "      <th>Producto</th>\n",
       "      <th>Vendedor</th>\n",
       "      <th>Ventas</th>\n",
       "    </tr>\n",
       "  </thead>\n",
       "  <tbody>\n",
       "    <tr>\n",
       "      <th>0</th>\n",
       "      <td>31/01/2024</td>\n",
       "      <td>Central</td>\n",
       "      <td>Accesorios</td>\n",
       "      <td>David</td>\n",
       "      <td>8.287</td>\n",
       "    </tr>\n",
       "    <tr>\n",
       "      <th>1</th>\n",
       "      <td>1/02/2024</td>\n",
       "      <td>Central</td>\n",
       "      <td>Accesorios</td>\n",
       "      <td>Karen</td>\n",
       "      <td>6.909</td>\n",
       "    </tr>\n",
       "    <tr>\n",
       "      <th>2</th>\n",
       "      <td>2/02/2024</td>\n",
       "      <td>Central</td>\n",
       "      <td>Dispositivos</td>\n",
       "      <td>David</td>\n",
       "      <td>11.420</td>\n",
       "    </tr>\n",
       "    <tr>\n",
       "      <th>3</th>\n",
       "      <td>3/02/2024</td>\n",
       "      <td>Central</td>\n",
       "      <td>Dispositivos</td>\n",
       "      <td>Karen</td>\n",
       "      <td>12.948</td>\n",
       "    </tr>\n",
       "    <tr>\n",
       "      <th>4</th>\n",
       "      <td>4/02/2024</td>\n",
       "      <td>Central</td>\n",
       "      <td>Sistemas</td>\n",
       "      <td>David</td>\n",
       "      <td>20.098</td>\n",
       "    </tr>\n",
       "  </tbody>\n",
       "</table>\n",
       "</div>"
      ],
      "text/plain": [
       "        Fecha   Region      Producto Vendedor  Ventas\n",
       "0  31/01/2024  Central    Accesorios    David   8.287\n",
       "1   1/02/2024  Central    Accesorios    Karen   6.909\n",
       "2   2/02/2024  Central  Dispositivos    David  11.420\n",
       "3   3/02/2024  Central  Dispositivos    Karen  12.948\n",
       "4   4/02/2024  Central      Sistemas    David  20.098"
      ]
     },
     "execution_count": 10,
     "metadata": {},
     "output_type": "execute_result"
    }
   ],
   "source": [
    "#mostrar las primeras filas del dataframe \n",
    "df_ventas.head(5)"
   ]
  },
  {
   "cell_type": "code",
   "execution_count": 14,
   "id": "8099951f-53bf-4486-8f0d-d70bc68751ee",
   "metadata": {},
   "outputs": [
    {
     "name": "stdout",
     "output_type": "stream",
     "text": [
      "Ejercicio 2: Calcular el total de ventas por región\n",
      "Region\n",
      "Central    90.295\n",
      "Este       63.555\n",
      "Oeste      85.683\n",
      "Name: Ventas, dtype: float64\n",
      "\n",
      "\n",
      "        Fecha   Region      Producto Vendedor  Ventas\n",
      "0  31/01/2024  Central    Accesorios    David   8.287\n",
      "1   1/02/2024  Central    Accesorios    Karen   6.909\n",
      "2   2/02/2024  Central  Dispositivos    David  11.420\n",
      "3   3/02/2024  Central  Dispositivos    Karen  12.948\n",
      "4   4/02/2024  Central      Sistemas    David  20.098\n",
      "5   5/02/2024  Central      Sistemas    Karen  30.633\n",
      "6   6/02/2024     Este    Accesorios      Ana   9.323\n",
      "7   7/02/2024     Este    Accesorios    Lucas   7.667\n",
      "8   8/02/2024     Este  Dispositivos      Ana  10.348\n",
      "9   9/02/2024     Este  Dispositivos    Lucas   9.312\n"
     ]
    }
   ],
   "source": [
    "#Calcular el total de ventas por región \n",
    "print (\"Ejercicio 2: Calcular el total de ventas por región\")\n",
    "ventas_por_region= df_ventas.groupby('Region')['Ventas'].sum()\n",
    "print(ventas_por_region)\n",
    "print(\"\\n\")\n",
    "print(df_ventas.head(10))"
   ]
  },
  {
   "cell_type": "code",
   "execution_count": 18,
   "id": "6740ac34-d827-497b-8b35-20339ee53829",
   "metadata": {},
   "outputs": [
    {
     "name": "stdout",
     "output_type": "stream",
     "text": [
      "Ejercicio 3: Filtrar el Dataframe para mostrar ventas de David\n",
      "        Fecha   Region      Producto Vendedor  Ventas\n",
      "0  31/01/2024  Central    Accesorios    David   8.287\n",
      "2   2/02/2024  Central  Dispositivos    David  11.420\n",
      "4   4/02/2024  Central      Sistemas    David  20.098\n"
     ]
    }
   ],
   "source": [
    "#Ejercicio 3: Filtrar el dataframe para mostrar solo las ventas realizadas por David \n",
    "print(\"Ejercicio 3: Filtrar el Dataframe para mostrar ventas de David\")\n",
    "ventas_david=df_ventas[df_ventas['Vendedor']=='David']\n",
    "print(ventas_david)"
   ]
  },
  {
   "cell_type": "code",
   "execution_count": 22,
   "id": "e5c90ed8-c7f3-4406-a034-566ad4897c37",
   "metadata": {},
   "outputs": [
    {
     "name": "stdout",
     "output_type": "stream",
     "text": [
      "Ejercicio4: Calcular el promedio de ventas por region\n",
      "Region\n",
      "Central    15.049167\n",
      "Este       10.592500\n",
      "Oeste      14.280500\n",
      "Name: Ventas, dtype: float64\n"
     ]
    }
   ],
   "source": [
    "#Ejercicio 4: Calcular el promedio de ventas por region \n",
    "print(\"Ejercicio4: Calcular el promedio de ventas por region\")\n",
    "ventas_por_producto=df_ventas.groupby('Region')['Ventas'].mean()\n",
    "print(ventas_por_producto)"
   ]
  },
  {
   "cell_type": "code",
   "execution_count": 26,
   "id": "b89f0fa9-0700-454d-8b4c-f2fa822345c6",
   "metadata": {},
   "outputs": [
    {
     "name": "stdout",
     "output_type": "stream",
     "text": [
      "Ejercicio5: Calcular el promedio de ventas por region con dos decimales\n",
      "Region\n",
      "Central    15.05\n",
      "Este       10.59\n",
      "Oeste      14.28\n",
      "Name: Ventas, dtype: float64\n"
     ]
    }
   ],
   "source": [
    "#Ejercicio 5: Calcular prom de ventas por region con dos decimales\n",
    "print(\"Ejercicio5: Calcular el promedio de ventas por region con dos decimales\")\n",
    "ventas_por_producto=df_ventas.groupby('Region')['Ventas'].mean().round(2)\n",
    "print(ventas_por_producto)"
   ]
  },
  {
   "cell_type": "code",
   "execution_count": 35,
   "id": "79528571-6f5c-44fc-bd58-48714d2e84e8",
   "metadata": {},
   "outputs": [
    {
     "name": "stdout",
     "output_type": "stream",
     "text": [
      "Ejercicio 6: Ordenar el Dataframe por ventas en orden descendente\n",
      "         Fecha   Region      Producto Vendedor  Ventas\n",
      "16  16/02/2024    Oeste      Sistemas    Kevin  32.855\n",
      "5    5/02/2024  Central      Sistemas    Karen  30.633\n",
      "17  17/02/2024    Oeste      Sistemas     Sara  23.151\n",
      "4    4/02/2024  Central      Sistemas    David  20.098\n",
      "10  10/02/2024     Este      Sistemas      Ana  13.531\n",
      "11  11/02/2024     Este      Sistemas    Lucas  13.374\n",
      "3    3/02/2024  Central  Dispositivos    Karen  12.948\n",
      "2    2/02/2024  Central  Dispositivos    David  11.420\n",
      "14  14/02/2024    Oeste  Dispositivos    Kevin  10.711\n",
      "8    8/02/2024     Este  Dispositivos      Ana  10.348\n",
      "6    6/02/2024     Este    Accesorios      Ana   9.323\n",
      "9    9/02/2024     Este  Dispositivos    Lucas   9.312\n",
      "15  15/02/2024    Oeste  Dispositivos     Sara   8.780\n",
      "0   31/01/2024  Central    Accesorios    David   8.287\n",
      "7    7/02/2024     Este    Accesorios    Lucas   7.667\n",
      "1    1/02/2024  Central    Accesorios    Karen   6.909\n",
      "13  13/02/2024    Oeste    Accesorios     Sara   5.442\n",
      "12  12/02/2024    Oeste    Accesorios    Kevin   4.744\n"
     ]
    }
   ],
   "source": [
    "#Ejercicio 6: Ordenar el dataframe por ventas en orden descendente \n",
    "print(\"Ejercicio 6: Ordenar el Dataframe por ventas en orden descendente\")\n",
    "df_ordenado=df_ventas.sort_values(by='Ventas',ascending=False)\n",
    "print(df_ordenado)"
   ]
  },
  {
   "cell_type": "code",
   "execution_count": 46,
   "id": "fdc2e987-651c-4ce7-8ccb-fbd0de8e7b26",
   "metadata": {},
   "outputs": [
    {
     "name": "stdout",
     "output_type": "stream",
     "text": [
      "Ejercicio7: Filtrar filas con ventas mayores a 10000\n",
      "Empty DataFrame\n",
      "Columns: [Fecha, Region, Producto, Vendedor, Ventas]\n",
      "Index: []\n",
      "\n",
      "\n"
     ]
    }
   ],
   "source": [
    "#Ejercicio7:Filtrar ventas mayores a 10000 y ordenar de mayor a menor \n",
    "print(\"Ejercicio7: Filtrar filas con ventas mayores a 10000\")\n",
    "df_filtrado=df_ventas[df_ventas['Ventas']>1000].sort_values(by='Ventas', ascending=True)\n",
    "print(df_filtrado)\n",
    "print(\"\\n\")"
   ]
  },
  {
   "cell_type": "code",
   "execution_count": 50,
   "id": "310dc22f-e667-431b-b760-d450de95f739",
   "metadata": {},
   "outputs": [
    {
     "name": "stdout",
     "output_type": "stream",
     "text": [
      "Ejercicio9:Eliminar la columna 'Vendedor'\n",
      "         Fecha   Region      Producto  Ventas\n",
      "0   31/01/2024  Central    Accesorios   8.287\n",
      "1    1/02/2024  Central    Accesorios   6.909\n",
      "2    2/02/2024  Central  Dispositivos  11.420\n",
      "3    3/02/2024  Central  Dispositivos  12.948\n",
      "4    4/02/2024  Central      Sistemas  20.098\n",
      "5    5/02/2024  Central      Sistemas  30.633\n",
      "6    6/02/2024     Este    Accesorios   9.323\n",
      "7    7/02/2024     Este    Accesorios   7.667\n",
      "8    8/02/2024     Este  Dispositivos  10.348\n",
      "9    9/02/2024     Este  Dispositivos   9.312\n",
      "10  10/02/2024     Este      Sistemas  13.531\n",
      "11  11/02/2024     Este      Sistemas  13.374\n",
      "12  12/02/2024    Oeste    Accesorios   4.744\n",
      "13  13/02/2024    Oeste    Accesorios   5.442\n",
      "14  14/02/2024    Oeste  Dispositivos  10.711\n",
      "15  15/02/2024    Oeste  Dispositivos   8.780\n",
      "16  16/02/2024    Oeste      Sistemas  32.855\n",
      "17  17/02/2024    Oeste      Sistemas  23.151\n",
      "\n",
      "\n"
     ]
    }
   ],
   "source": [
    "print(\"Ejercicio9:Eliminar la columna 'Vendedor'\")\n",
    "df_sin_vendedor=df_ventas.drop(columns=['Vendedor'])\n",
    "print(df_sin_vendedor)\n",
    "print(\"\\n\")\n"
   ]
  }
 ],
 "metadata": {
  "kernelspec": {
   "display_name": "Python 3 (ipykernel)",
   "language": "python",
   "name": "python3"
  },
  "language_info": {
   "codemirror_mode": {
    "name": "ipython",
    "version": 3
   },
   "file_extension": ".py",
   "mimetype": "text/x-python",
   "name": "python",
   "nbconvert_exporter": "python",
   "pygments_lexer": "ipython3",
   "version": "3.12.4"
  }
 },
 "nbformat": 4,
 "nbformat_minor": 5
}
